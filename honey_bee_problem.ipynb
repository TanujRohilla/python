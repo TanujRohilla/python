{
 "cells": [
  {
   "cell_type": "markdown",
   "metadata": {
    "deletable": true,
    "editable": true
   },
   "source": [
    "# HoneyBee Problem Statement"
   ]
  },
  {
   "cell_type": "markdown",
   "metadata": {
    "deletable": true,
    "editable": true
   },
   "source": [
    "A bee walks around on a honeycomb, an infinite tessalating hexagonal grid, starting at a fixed\n",
    "hexagon. At each step, the bee moves to one of the six adjacent hexagons with equal probability.\n",
    "If the adjacent hexagons are always a distance of one unit away from each other, then\n",
    "\n",
    "(a) After T=16 steps, what is the expected value of the bee's distance from the starting\n",
    "hexagon?\n",
    "\n",
    "(b) After T=16 steps, steps, what is the expected value of the deviation of the bee's distance\n",
    "from the starting hexagon?\n",
    "\n",
    "(c) After T=64 steps, what is the expected value of the bee's distance from the starting\n",
    "hexagon?\n",
    "\n",
    "(d) After T=64 steps, steps, what is the expected value of the deviation of the bee's distance\n",
    "from the starting hexagon?"
   ]
  },
  {
   "cell_type": "code",
   "execution_count": 6,
   "metadata": {
    "collapsed": false,
    "deletable": true,
    "editable": true
   },
   "outputs": [
    {
     "name": "stdout",
     "output_type": "stream",
     "text": [
      "Number of moves honeybee will take:90\n",
      "The expected Bee's distance from starting hexagon = 7.254082245317595\n",
      "The expected value of the deviation of the bee's distance from the starting hexagon = 3.9864863835149023\n"
     ]
    }
   ],
   "source": [
    "import random\n",
    "import math\n",
    "import statistics\n",
    "\n",
    "# input : number of moves Bee's will take\n",
    "n=int(input(\"Number of moves honeybee will take:\"))\n",
    "\n",
    "# initially bee is at origin\n",
    "position=[0,0]\n",
    "\n",
    "# Bee's distance from starting hexagon  \n",
    "distance=[]\n",
    "\n",
    "# Running 100 different test cases for fixed number of moves\n",
    "for i in range(101):\n",
    "    \n",
    "    position=[0,0]\n",
    "    \n",
    "    for j in range(n+1):\n",
    "        \n",
    "        # generate random number from 1-6, decides in which grid bee's will move\n",
    "        grid=random.randint(1,7)  \n",
    "    \n",
    "        # Bee's moves to Grid 1\n",
    "        if (grid==1):\n",
    "            position[0]+=(math.sqrt(3))/2    # updating x coordinate\n",
    "            position[1]+=0.5                 # updating y coordinate\n",
    "           \n",
    "        # Bee's moves to Grid 2\n",
    "        elif (grid==2):\n",
    "            position[0]+=(math.sqrt(3))/2\n",
    "            position[1]+=(-0.5)\n",
    "    \n",
    "        # Bee's moves to Grid 3\n",
    "        elif (grid==3):\n",
    "            position[1]+=(-1)\n",
    "            \n",
    "        # Bee's moves to Grid 4\n",
    "        elif (grid==4):\n",
    "            position[0]+=(-(math.sqrt(3))/2)\n",
    "            position[1]+=(-0.5)\n",
    "\n",
    "        # Bee's moves to Grid 5\n",
    "        elif (grid==5):\n",
    "            position[0]+=(-(math.sqrt(3))/2)\n",
    "            position[1]+=(0.5)\n",
    "\n",
    "        # Bee's moves to Grid 6\n",
    "        elif (grid==6):\n",
    "            position[1]+=1\n",
    "            \n",
    "    # appending result of each test case\n",
    "    distance.append(math.sqrt(math.pow(position[0],2)+(math.pow(position[1],2))))\n",
    "\n",
    "# calculating mean of 100 test cases\n",
    "print(\"The expected Bee's distance from starting hexagon =\",statistics.mean(distance))\n",
    "\n",
    "# calculating standard deviation of 100 test cases\n",
    "print(\"The expected value of the deviation of the bee's distance from the starting hexagon =\",statistics.stdev(distance))"
   ]
  },
  {
   "cell_type": "code",
   "execution_count": null,
   "metadata": {
    "collapsed": true,
    "deletable": true,
    "editable": true
   },
   "outputs": [],
   "source": []
  },
  {
   "cell_type": "code",
   "execution_count": null,
   "metadata": {
    "collapsed": true,
    "deletable": true,
    "editable": true
   },
   "outputs": [],
   "source": []
  }
 ],
 "metadata": {
  "kernelspec": {
   "display_name": "Python 3",
   "language": "python",
   "name": "python3"
  },
  "language_info": {
   "codemirror_mode": {
    "name": "ipython",
    "version": 3
   },
   "file_extension": ".py",
   "mimetype": "text/x-python",
   "name": "python",
   "nbconvert_exporter": "python",
   "pygments_lexer": "ipython3",
   "version": "3.5.2"
  }
 },
 "nbformat": 4,
 "nbformat_minor": 2
}
